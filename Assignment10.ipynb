{
 "cells": [
  {
   "cell_type": "markdown",
   "id": "2fe46d00-2bdd-4cbd-8f6b-12ddc0228c17",
   "metadata": {},
   "source": [
    "Q1. Create a vehicle class with an init method having instance variables as name_of_vehicle, max_speed\n",
    "and average_of_vehicle."
   ]
  },
  {
   "cell_type": "code",
   "execution_count": 1,
   "id": "9efa23e9-02f8-415e-8f65-170e271291d7",
   "metadata": {},
   "outputs": [],
   "source": [
    "class vehicle:\n",
    "    def __init__(self,name_of_vehicle,max_speed,average_of_vehicle):\n",
    "        self.name_of_vehicle = name_of_vehicle\n",
    "        self.max_speed = max_speed\n",
    "        self.average_of_vehicle = average_of_vehicle"
   ]
  },
  {
   "cell_type": "markdown",
   "id": "0f5d21a9-8d3f-4df7-b7a1-ff367fa69961",
   "metadata": {},
   "source": [
    "Q2. Create a child class car from the vehicle class created in Que 1, which will inherit the vehicle class.\n",
    "Create a method named seating_capacity which takes capacity as an argument and returns the name of\n",
    "the vehicle and its seating capacity."
   ]
  },
  {
   "cell_type": "code",
   "execution_count": 4,
   "id": "c6ac0242-1541-4c8b-ac45-86dd9d5fe179",
   "metadata": {},
   "outputs": [
    {
     "data": {
      "text/plain": [
       "('Swift', 5)"
      ]
     },
     "execution_count": 4,
     "metadata": {},
     "output_type": "execute_result"
    }
   ],
   "source": [
    "class car(vehicle):\n",
    "    def seating_capacity(self,capacity):\n",
    "        return self.name_of_vehicle, capacity\n",
    "    #execution of problem 2\n",
    "mycar = car('Swift',100,25)\n",
    "mycar.seating_capacity(5)"
   ]
  },
  {
   "cell_type": "markdown",
   "id": "44b8a27d-54eb-4a85-9850-07d6b67b3d03",
   "metadata": {},
   "source": [
    "Q3. What is multiple inheritance? Write a python code to demonstrate multiple inheritance."
   ]
  },
  {
   "cell_type": "code",
   "execution_count": 9,
   "id": "6e639d0d-fab6-4130-98d1-c40ce5f3005c",
   "metadata": {},
   "outputs": [
    {
     "name": "stdout",
     "output_type": "stream",
     "text": [
      "In Class2\n"
     ]
    }
   ],
   "source": [
    "\"\"\" Multiple Inheritence :- When a class is derived from more than one base class it is called multiple\n",
    "Inheritance. The derived class inherits all the features of the base case.\"\"\"\n",
    "class Class1:\n",
    "    def m(self):\n",
    "        print(\"In Class1\")\n",
    "       \n",
    "class Class2(Class1):\n",
    "    def m(self):\n",
    "        print(\"In Class2\")\n",
    " \n",
    "class Class3(Class1):\n",
    "    def m(self):\n",
    "        print(\"In Class3\") \n",
    "        \n",
    "class Class4(Class2, Class3):\n",
    "    pass  \n",
    "     \n",
    "obj = Class4()\n",
    "obj.m()"
   ]
  },
  {
   "cell_type": "markdown",
   "id": "e1ab706e-67d9-4dee-9032-3b7591eeec53",
   "metadata": {},
   "source": [
    "Q4. What are getter and setter in python? Create a class and create a getter and a setter method in this\n",
    "class."
   ]
  },
  {
   "cell_type": "code",
   "execution_count": 12,
   "id": "a47c25a8-af4e-4a38-8dab-34ba937a6668",
   "metadata": {},
   "outputs": [
    {
     "name": "stdout",
     "output_type": "stream",
     "text": [
      "24\n",
      "24\n"
     ]
    }
   ],
   "source": [
    "\"\"\" Getter: A method that allows you to access an attribute in a given class\n",
    "    Setter: A method that allows you to set or mutate the value of an attribute in a class\n",
    "In Python, getters and setters are not the same as those in other object-oriented programming languages.\n",
    "Basically, the main purpose of using getters and setters in object-oriented programs is to ensure \n",
    "data encapsulation.\n",
    "\"\"\"\n",
    "class PWS:\n",
    "    def __init__(self, age = 0):\n",
    "         self._age = age\n",
    "      \n",
    "    \n",
    "    def get_age(self):\n",
    "        return self._age\n",
    "      \n",
    "    # setter method\n",
    "    def set_age(self, x):\n",
    "        self._age = x\n",
    "  \n",
    "Jayant = Geek()\n",
    "  \n",
    "\n",
    "Jayant.set_age(24)\n",
    "  \n",
    "\n",
    "print(Jayant.get_age())\n",
    "  \n",
    "print(Jayant._age)\n"
   ]
  },
  {
   "cell_type": "markdown",
   "id": "7a46c7e3-3304-4444-b961-64a15cae64d2",
   "metadata": {},
   "source": [
    "Q5.What is method overriding in python? Write a python code to demonstrate method overriding."
   ]
  },
  {
   "cell_type": "code",
   "execution_count": 13,
   "id": "85d12dfb-8468-4602-a806-866cd55ed440",
   "metadata": {},
   "outputs": [
    {
     "name": "stdout",
     "output_type": "stream",
     "text": [
      "Inside Parent\n",
      "Inside Child\n"
     ]
    }
   ],
   "source": [
    "\"\"\"Method overriding is an ability of any object-oriented programming language that allows a subclass \n",
    "or child class to provide a specific implementation of a method that is already provided by one of \n",
    "its super-classes or parent classes. When a method in a subclass has the same name, same parameters \n",
    "or signature and same return type(or sub-type) as a method in its super-class, then the method in the \n",
    "subclass is said to override the method in the super-class.\"\"\"\n",
    "\n",
    "\n",
    "class Parent():\n",
    "      \n",
    "   \n",
    "    def __init__(self):\n",
    "        self.value = \"Inside Parent\"\n",
    "          \n",
    "  \n",
    "    def show(self):\n",
    "        print(self.value)\n",
    "          \n",
    "\n",
    "class Child(Parent):\n",
    "      \n",
    "    \n",
    "    def __init__(self):\n",
    "        self.value = \"Inside Child\"\n",
    "          \n",
    "   \n",
    "    def show(self):\n",
    "        print(self.value)\n",
    "          \n",
    "          \n",
    "\n",
    "obj1 = Parent()\n",
    "obj2 = Child()\n",
    "  \n",
    "obj1.show()\n",
    "obj2.show()"
   ]
  },
  {
   "cell_type": "code",
   "execution_count": null,
   "id": "e3410fb0-9dfa-4960-87f9-99cc9bb9d190",
   "metadata": {},
   "outputs": [],
   "source": []
  }
 ],
 "metadata": {
  "kernelspec": {
   "display_name": "Python 3 (ipykernel)",
   "language": "python",
   "name": "python3"
  },
  "language_info": {
   "codemirror_mode": {
    "name": "ipython",
    "version": 3
   },
   "file_extension": ".py",
   "mimetype": "text/x-python",
   "name": "python",
   "nbconvert_exporter": "python",
   "pygments_lexer": "ipython3",
   "version": "3.10.8"
  }
 },
 "nbformat": 4,
 "nbformat_minor": 5
}
